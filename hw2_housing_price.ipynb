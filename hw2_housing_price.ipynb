{
 "cells": [
  {
   "cell_type": "code",
   "execution_count": 11,
   "metadata": {
    "ExecuteTime": {
     "end_time": "2022-09-18T11:04:49.255928Z",
     "start_time": "2022-09-18T11:04:48.712120Z"
    }
   },
   "outputs": [],
   "source": [
    "import pandas as pd\n",
    "import numpy as np\n",
    "\n",
    "import seaborn as sns\n",
    "from matplotlib import pyplot as plt\n",
    "%matplotlib inline"
   ]
  },
  {
   "cell_type": "code",
   "execution_count": 12,
   "metadata": {
    "ExecuteTime": {
     "end_time": "2022-09-18T11:04:50.220891Z",
     "start_time": "2022-09-18T11:04:50.171578Z"
    }
   },
   "outputs": [],
   "source": [
    "df = pd.read_csv('./housing.csv')"
   ]
  },
  {
   "cell_type": "code",
   "execution_count": 13,
   "metadata": {
    "ExecuteTime": {
     "end_time": "2022-09-18T11:04:50.803814Z",
     "start_time": "2022-09-18T11:04:50.772583Z"
    }
   },
   "outputs": [
    {
     "data": {
      "text/html": [
       "<div>\n",
       "<style scoped>\n",
       "    .dataframe tbody tr th:only-of-type {\n",
       "        vertical-align: middle;\n",
       "    }\n",
       "\n",
       "    .dataframe tbody tr th {\n",
       "        vertical-align: top;\n",
       "    }\n",
       "\n",
       "    .dataframe thead th {\n",
       "        text-align: right;\n",
       "    }\n",
       "</style>\n",
       "<table border=\"1\" class=\"dataframe\">\n",
       "  <thead>\n",
       "    <tr style=\"text-align: right;\">\n",
       "      <th></th>\n",
       "      <th>longitude</th>\n",
       "      <th>latitude</th>\n",
       "      <th>housing_median_age</th>\n",
       "      <th>total_rooms</th>\n",
       "      <th>total_bedrooms</th>\n",
       "      <th>population</th>\n",
       "      <th>households</th>\n",
       "      <th>median_income</th>\n",
       "      <th>median_house_value</th>\n",
       "      <th>ocean_proximity</th>\n",
       "    </tr>\n",
       "  </thead>\n",
       "  <tbody>\n",
       "    <tr>\n",
       "      <th>0</th>\n",
       "      <td>-122.23</td>\n",
       "      <td>37.88</td>\n",
       "      <td>41.0</td>\n",
       "      <td>880.0</td>\n",
       "      <td>129.0</td>\n",
       "      <td>322.0</td>\n",
       "      <td>126.0</td>\n",
       "      <td>8.3252</td>\n",
       "      <td>452600.0</td>\n",
       "      <td>NEAR BAY</td>\n",
       "    </tr>\n",
       "    <tr>\n",
       "      <th>1</th>\n",
       "      <td>-122.22</td>\n",
       "      <td>37.86</td>\n",
       "      <td>21.0</td>\n",
       "      <td>7099.0</td>\n",
       "      <td>1106.0</td>\n",
       "      <td>2401.0</td>\n",
       "      <td>1138.0</td>\n",
       "      <td>8.3014</td>\n",
       "      <td>358500.0</td>\n",
       "      <td>NEAR BAY</td>\n",
       "    </tr>\n",
       "  </tbody>\n",
       "</table>\n",
       "</div>"
      ],
      "text/plain": [
       "   longitude  latitude  housing_median_age  total_rooms  total_bedrooms  \\\n",
       "0    -122.23     37.88                41.0        880.0           129.0   \n",
       "1    -122.22     37.86                21.0       7099.0          1106.0   \n",
       "\n",
       "   population  households  median_income  median_house_value ocean_proximity  \n",
       "0       322.0       126.0         8.3252            452600.0        NEAR BAY  \n",
       "1      2401.0      1138.0         8.3014            358500.0        NEAR BAY  "
      ]
     },
     "execution_count": 13,
     "metadata": {},
     "output_type": "execute_result"
    }
   ],
   "source": [
    "df.head(2)"
   ]
  },
  {
   "cell_type": "code",
   "execution_count": 19,
   "metadata": {
    "ExecuteTime": {
     "end_time": "2022-09-18T11:05:43.684788Z",
     "start_time": "2022-09-18T11:05:43.540481Z"
    }
   },
   "outputs": [
    {
     "data": {
      "image/png": "[encoded data removed]",
      "text/plain": [
       "<Figure size 576x432 with 1 Axes>"
      ]
     },
     "metadata": {
      "needs_background": "light"
     },
     "output_type": "display_data"
    }
   ],
   "source": [
    "plt.figure(figsize=(8, 6))\n",
    "\n",
    "sns.histplot(df.median_house_value, bins=30, color='green', alpha=1)\n",
    "plt.ylabel('Frequency')\n",
    "plt.xlabel('median_house_value')\n",
    "plt.title('Distribution of median_house_value')\n",
    "plt.show()"
   ]
  },
  {
   "cell_type": "code",
   "execution_count": 22,
   "metadata": {
    "ExecuteTime": {
     "end_time": "2022-09-18T11:07:15.712347Z",
     "start_time": "2022-09-18T11:07:15.705551Z"
    }
   },
   "outputs": [],
   "source": [
    "columns = ['latitude', 'longitude', 'housing_median_age', 'total_rooms', 'total_bedrooms', 'population', 'households', 'median_income', 'median_house_value']\n",
    "\n",
    "df = df[columns]"
   ]
  },
  {
   "cell_type": "markdown",
   "metadata": {},
   "source": [
    "# Question 1"
   ]
  },
  {
   "cell_type": "code",
   "execution_count": 31,
   "metadata": {
    "ExecuteTime": {
     "end_time": "2022-09-18T11:09:41.764243Z",
     "start_time": "2022-09-18T11:09:41.759368Z"
    }
   },
   "outputs": [
    {
     "name": "stdout",
     "output_type": "stream",
     "text": [
      "latitude -> number of missing values 0\n",
      "longitude -> number of missing values 0\n",
      "housing_median_age -> number of missing values 0\n",
      "total_rooms -> number of missing values 0\n",
      "total_bedrooms -> number of missing values 207\n",
      "population -> number of missing values 0\n",
      "households -> number of missing values 0\n",
      "median_income -> number of missing values 0\n",
      "median_house_value -> number of missing values 0\n"
     ]
    }
   ],
   "source": [
    "for col in columns:\n",
    "    print(f'{col} -> number of missing values {df[col].isna().sum()}')"
   ]
  },
  {
   "cell_type": "markdown",
   "metadata": {},
   "source": [
    "# Question 2"
   ]
  },
  {
   "cell_type": "code",
   "execution_count": 32,
   "metadata": {
    "ExecuteTime": {
     "end_time": "2022-09-18T11:10:51.213202Z",
     "start_time": "2022-09-18T11:10:51.202661Z"
    }
   },
   "outputs": [
    {
     "data": {
      "text/plain": [
       "1166.0"
      ]
     },
     "execution_count": 32,
     "metadata": {},
     "output_type": "execute_result"
    }
   ],
   "source": [
    "df['population'].median()"
   ]
  },
  {
   "cell_type": "markdown",
   "metadata": {},
   "source": [
    "# Question 3"
   ]
  },
  {
   "cell_type": "markdown",
   "metadata": {},
   "source": [
    "## Train test split"
   ]
  },
  {
   "cell_type": "code",
   "execution_count": 122,
   "metadata": {
    "ExecuteTime": {
     "end_time": "2022-09-18T12:19:40.147666Z",
     "start_time": "2022-09-18T12:19:40.139149Z"
    }
   },
   "outputs": [],
   "source": [
    "def train_test_split(df, seed=42):\n",
    "    np.random.seed(seed)\n",
    "    n = len(df)\n",
    "\n",
    "    n_val = int(0.2 * n)\n",
    "    n_test = int(0.2 * n)\n",
    "    n_train = n - (n_val + n_test)\n",
    "\n",
    "    idx = np.arange(n)\n",
    "    np.random.shuffle(idx)\n",
    "\n",
    "    df_shuffled = df.iloc[idx]\n",
    "\n",
    "    df_train = df_shuffled.iloc[:n_train].copy()\n",
    "    df_val = df_shuffled.iloc[n_train:n_train+n_val].copy()\n",
    "    df_test = df_shuffled.iloc[n_train+n_val:].copy()\n",
    "    \n",
    "    y_train_orig = df_train['median_house_value'].values\n",
    "    y_val_orig = df_val['median_house_value'].values\n",
    "    y_test_orig = df_test['median_house_value'].values\n",
    "\n",
    "    y_train = np.log1p(df_train['median_house_value'].values)\n",
    "    y_val = np.log1p(df_val['median_house_value'].values)\n",
    "    y_test = np.log1p(df_test['median_house_value'].values)\n",
    "\n",
    "    del df_train['median_house_value']\n",
    "    del df_val['median_house_value']\n",
    "    del df_test['median_house_value']\n",
    "    \n",
    "    \n",
    "    return df_train, df_val, df_test, y_train, y_val, y_test"
   ]
  },
  {
   "cell_type": "code",
   "execution_count": 123,
   "metadata": {
    "ExecuteTime": {
     "end_time": "2022-09-18T12:19:41.090276Z",
     "start_time": "2022-09-18T12:19:41.079486Z"
    }
   },
   "outputs": [
    {
     "name": "stdout",
     "output_type": "stream",
     "text": [
      "sizes of datasets train = 12384, val = 4128, test = 4128\n"
     ]
    }
   ],
   "source": [
    "df_train, df_val, df_test, y_train, y_val, y_test = train_test_split(df, seed = 42)\n",
    "print(f'sizes of datasets train = {df_train.shape[0]}, val = {df_val.shape[0]}, test = {df_test.shape[0]}')"
   ]
  },
  {
   "cell_type": "code",
   "execution_count": 124,
   "metadata": {
    "ExecuteTime": {
     "end_time": "2022-09-18T12:19:44.337041Z",
     "start_time": "2022-09-18T12:19:44.332318Z"
    }
   },
   "outputs": [],
   "source": [
    "def train_linear_regression(X, y):\n",
    "    ones = np.ones(X.shape[0])\n",
    "    X = np.column_stack([ones, X])\n",
    "\n",
    "    XTX = X.T.dot(X)\n",
    "    XTX_inv = np.linalg.inv(XTX)\n",
    "    w = XTX_inv.dot(X.T).dot(y)\n",
    "    \n",
    "    return w[0], w[1:]\n",
    "\n",
    "def fill_df(train, val, test, fill_val=0):\n",
    "    train = train.fillna(fill_val)\n",
    "    val = val.fillna(fill_val)\n",
    "    test = test.fillna(fill_val)\n",
    "    return train, val, test\n",
    "\n",
    "def rmse(y, y_pred):\n",
    "    error = y_pred - y\n",
    "    mse = (error ** 2).mean()\n",
    "    return np.sqrt(mse)"
   ]
  },
  {
   "cell_type": "code",
   "execution_count": 125,
   "metadata": {
    "ExecuteTime": {
     "end_time": "2022-09-18T12:19:44.997477Z",
     "start_time": "2022-09-18T12:19:44.985819Z"
    }
   },
   "outputs": [],
   "source": [
    "train1, val1, test1 = fill_df(df_train, df_val, df_test, fill_val=0)\n",
    "\n",
    "mean_bedroom_train = df_train['total_bedrooms'].mean()\n",
    "train2, val2, test2 = fill_df(df_train, df_val, df_test, fill_val=mean_bedroom_train)"
   ]
  },
  {
   "cell_type": "code",
   "execution_count": 126,
   "metadata": {
    "ExecuteTime": {
     "end_time": "2022-09-18T12:19:47.156591Z",
     "start_time": "2022-09-18T12:19:47.153250Z"
    }
   },
   "outputs": [],
   "source": [
    "w_01, w1 = train_linear_regression(train1, y_train)\n",
    "\n",
    "w_02, w2 = train_linear_regression(train2, y_train)"
   ]
  },
  {
   "cell_type": "code",
   "execution_count": 127,
   "metadata": {
    "ExecuteTime": {
     "end_time": "2022-09-18T12:19:47.855567Z",
     "start_time": "2022-09-18T12:19:47.842881Z"
    }
   },
   "outputs": [],
   "source": [
    "pred1_train = w_01 + train1.values.dot(w1)\n",
    "pred2_train = w_02 + train2.values.dot(w2)\n",
    "\n",
    "pred1_val = w_01 + val1.values.dot(w1)\n",
    "pred2_val = w_02 + val2.values.dot(w2)\n",
    "\n",
    "pred1_test = w_01 + test1.values.dot(w1)\n",
    "pred2_test = w_02 + test2.values.dot(w2)"
   ]
  },
  {
   "cell_type": "code",
   "execution_count": 128,
   "metadata": {
    "ExecuteTime": {
     "end_time": "2022-09-18T12:19:49.821883Z",
     "start_time": "2022-09-18T12:19:49.818577Z"
    }
   },
   "outputs": [
    {
     "name": "stdout",
     "output_type": "stream",
     "text": [
      "fill missing values with 0.\n",
      "RMSE: train = 0.34, val = 0.33, test = 0.35\n",
      "\n",
      "\n",
      "fill missing values with mean.\n",
      "RMSE: train = 0.34, val = 0.33, test = 0.35\n"
     ]
    }
   ],
   "source": [
    "print(f'fill missing values with 0.')\n",
    "print(f'RMSE: train = {round(rmse(pred1_train, y_train), 2)}, val = {round(rmse(pred1_val,y_val), 2)}, test = {round(rmse(pred1_test,y_test), 2)}')\n",
    "\n",
    "print('\\n')\n",
    "print(f'fill missing values with mean.')\n",
    "print(f'RMSE: train = {round(rmse(pred2_train, y_train), 2)}, val = {round(rmse(pred2_val,y_val), 2)}, test = {round(rmse(pred2_test,y_test), 2)}')"
   ]
  },
  {
   "cell_type": "markdown",
   "metadata": {},
   "source": [
    "Both filling with 0 and filling with mean are equally good in terms of validation rmse"
   ]
  },
  {
   "cell_type": "markdown",
   "metadata": {},
   "source": [
    "# Question 4"
   ]
  },
  {
   "cell_type": "code",
   "execution_count": 129,
   "metadata": {
    "ExecuteTime": {
     "end_time": "2022-09-18T12:19:53.168475Z",
     "start_time": "2022-09-18T12:19:53.162523Z"
    }
   },
   "outputs": [],
   "source": [
    "r_values = [0, 0.000001, 0.0001, 0.001, 0.01, 0.1, 1, 5, 10]"
   ]
  },
  {
   "cell_type": "code",
   "execution_count": 130,
   "metadata": {
    "ExecuteTime": {
     "end_time": "2022-09-18T12:19:54.928953Z",
     "start_time": "2022-09-18T12:19:54.915327Z"
    }
   },
   "outputs": [],
   "source": [
    "def train_linear_regression_reg(X, y, r=0.0):\n",
    "    ones = np.ones(X.shape[0])\n",
    "    X = np.column_stack([ones, X])\n",
    "\n",
    "    XTX = X.T.dot(X)\n",
    "    reg = r * np.eye(XTX.shape[0])\n",
    "    XTX = XTX + reg\n",
    "\n",
    "    XTX_inv = np.linalg.inv(XTX)\n",
    "    w = XTX_inv.dot(X.T).dot(y)\n",
    "    \n",
    "    return w[0], w[1:]"
   ]
  },
  {
   "cell_type": "code",
   "execution_count": 131,
   "metadata": {
    "ExecuteTime": {
     "end_time": "2022-09-18T12:19:55.537004Z",
     "start_time": "2022-09-18T12:19:55.531292Z"
    }
   },
   "outputs": [],
   "source": [
    "train1, val1, test1 = fill_df(df_train, df_val, df_test, fill_val=0)"
   ]
  },
  {
   "cell_type": "code",
   "execution_count": 132,
   "metadata": {
    "ExecuteTime": {
     "end_time": "2022-09-18T12:19:58.666928Z",
     "start_time": "2022-09-18T12:19:58.654049Z"
    }
   },
   "outputs": [
    {
     "name": "stdout",
     "output_type": "stream",
     "text": [
      "r = 0, RMSE: val loss = 0.33\n",
      "r = 1e-06, RMSE: val loss = 0.33\n",
      "r = 0.0001, RMSE: val loss = 0.33\n",
      "r = 0.001, RMSE: val loss = 0.33\n",
      "r = 0.01, RMSE: val loss = 0.33\n",
      "r = 0.1, RMSE: val loss = 0.33\n",
      "r = 1, RMSE: val loss = 0.33\n",
      "r = 5, RMSE: val loss = 0.34\n",
      "r = 10, RMSE: val loss = 0.34\n"
     ]
    }
   ],
   "source": [
    "for r in r_values:\n",
    "    w_0, w = train_linear_regression_reg(train1, y_train, r=r)\n",
    "    pred_train = w_0 + train1.values.dot(w)\n",
    "\n",
    "    pred_val = w_0 + val1.values.dot(w)\n",
    "    \n",
    "    pred_test = w_0 + test1.values.dot(w)\n",
    "    print(f'r = {r}, RMSE: val loss = {round(rmse(pred_val,y_val), 2)}')\n",
    "    "
   ]
  },
  {
   "cell_type": "code",
   "execution_count": 79,
   "metadata": {
    "ExecuteTime": {
     "end_time": "2022-09-18T11:58:54.195687Z",
     "start_time": "2022-09-18T11:58:54.192841Z"
    }
   },
   "outputs": [],
   "source": []
  },
  {
   "cell_type": "markdown",
   "metadata": {},
   "source": [
    "# Question 5"
   ]
  },
  {
   "cell_type": "code",
   "execution_count": 133,
   "metadata": {
    "ExecuteTime": {
     "end_time": "2022-09-18T12:20:20.363558Z",
     "start_time": "2022-09-18T12:20:20.308757Z"
    }
   },
   "outputs": [
    {
     "name": "stdout",
     "output_type": "stream",
     "text": [
      "seed = 0, rmse loss = 0.33884304805295895\n",
      "seed = 1, rmse loss = 0.33623872559558743\n",
      "seed = 2, rmse loss = 0.3320912318844027\n",
      "seed = 3, rmse loss = 0.3405153609035518\n",
      "seed = 4, rmse loss = 0.3389024066572691\n",
      "seed = 5, rmse loss = 0.34348667257195153\n",
      "seed = 6, rmse loss = 0.3451980953098988\n",
      "seed = 7, rmse loss = 0.3395989927404382\n",
      "seed = 8, rmse loss = 0.346623087319281\n",
      "seed = 9, rmse loss = 0.3365926124192122\n"
     ]
    }
   ],
   "source": [
    "seeds = [0, 1, 2, 3, 4, 5, 6, 7, 8, 9]\n",
    "rmse_values = []\n",
    "for seed in seeds:\n",
    "    np.random.seed(seed)\n",
    "    df_train, df_val, df_test, y_train, y_val, y_test = train_test_split(df, seed = seed)\n",
    "    train1, val1, test1 = fill_df(df_train, df_val, df_test, fill_val=0)\n",
    "    w_0, w1 = train_linear_regression(train1, y_train)\n",
    "    pred_val = w_0 + val1.values.dot(w1)\n",
    "    loss = rmse(pred_val,y_val)\n",
    "    rmse_values.append(loss)\n",
    "    print(f'seed = {seed}, rmse loss = {loss}')"
   ]
  },
  {
   "cell_type": "code",
   "execution_count": 154,
   "metadata": {
    "ExecuteTime": {
     "end_time": "2022-09-18T12:25:24.115767Z",
     "start_time": "2022-09-18T12:25:24.112836Z"
    }
   },
   "outputs": [
    {
     "name": "stdout",
     "output_type": "stream",
     "text": [
      "std = 0.004\n"
     ]
    }
   ],
   "source": [
    "print(f'std = {round(np.std(rmse_values), 3)}')"
   ]
  },
  {
   "cell_type": "code",
   "execution_count": null,
   "metadata": {},
   "outputs": [],
   "source": []
  },
  {
   "cell_type": "markdown",
   "metadata": {},
   "source": [
    "# Question 6"
   ]
  },
  {
   "cell_type": "code",
   "execution_count": 146,
   "metadata": {
    "ExecuteTime": {
     "end_time": "2022-09-18T12:23:21.895959Z",
     "start_time": "2022-09-18T12:23:21.885664Z"
    }
   },
   "outputs": [],
   "source": [
    "np.random.seed(seed)\n",
    "df_train, df_val, df_test, y_train, y_val, y_test = train_test_split(df, seed = 9)\n"
   ]
  },
  {
   "cell_type": "code",
   "execution_count": 147,
   "metadata": {
    "ExecuteTime": {
     "end_time": "2022-09-18T12:23:22.565317Z",
     "start_time": "2022-09-18T12:23:22.561422Z"
    }
   },
   "outputs": [
    {
     "data": {
      "text/plain": [
       "((12384,), (4128,))"
      ]
     },
     "execution_count": 147,
     "metadata": {},
     "output_type": "execute_result"
    }
   ],
   "source": [
    "y_train.shape, y_val.shape"
   ]
  },
  {
   "cell_type": "code",
   "execution_count": 148,
   "metadata": {
    "ExecuteTime": {
     "end_time": "2022-09-18T12:23:23.125823Z",
     "start_time": "2022-09-18T12:23:23.115222Z"
    }
   },
   "outputs": [],
   "source": [
    "frames = [df_train, df_val]\n",
    "frames_y = [y_train, y_val]\n",
    "\n",
    "new_df_train = pd.concat(frames)\n",
    "\n",
    "y_train = np.concatenate((y_train, y_val))"
   ]
  },
  {
   "cell_type": "code",
   "execution_count": 150,
   "metadata": {
    "ExecuteTime": {
     "end_time": "2022-09-18T12:23:48.597347Z",
     "start_time": "2022-09-18T12:23:48.593789Z"
    }
   },
   "outputs": [],
   "source": [
    "train = new_df_train.fillna(0)\n",
    "\n",
    "test = df_test.fillna(0)\n",
    "\n",
    "w0, w1 = train_linear_regression_reg(train, y_train, r=0.001)"
   ]
  },
  {
   "cell_type": "code",
   "execution_count": null,
   "metadata": {},
   "outputs": [],
   "source": []
  },
  {
   "cell_type": "code",
   "execution_count": 153,
   "metadata": {
    "ExecuteTime": {
     "end_time": "2022-09-18T12:24:53.899335Z",
     "start_time": "2022-09-18T12:24:53.895177Z"
    }
   },
   "outputs": [
    {
     "name": "stdout",
     "output_type": "stream",
     "text": [
      "test rmse loss = 0.34822928298087075\n"
     ]
    }
   ],
   "source": [
    "pred_test = w_0 + test.values.dot(w1)\n",
    "loss = rmse(pred_test,y_test)\n",
    "\n",
    "print(f'test rmse loss = {loss}')"
   ]
  },
  {
   "cell_type": "code",
   "execution_count": null,
   "metadata": {},
   "outputs": [],
   "source": []
  },
  {
   "cell_type": "code",
   "execution_count": null,
   "metadata": {},
   "outputs": [],
   "source": []
  },
  {
   "cell_type": "code",
   "execution_count": null,
   "metadata": {},
   "outputs": [],
   "source": []
  },
  {
   "cell_type": "code",
   "execution_count": null,
   "metadata": {},
   "outputs": [],
   "source": []
  },
  {
   "cell_type": "code",
   "execution_count": null,
   "metadata": {},
   "outputs": [],
   "source": []
  },
  {
   "cell_type": "code",
   "execution_count": null,
   "metadata": {},
   "outputs": [],
   "source": []
  },
  {
   "cell_type": "code",
   "execution_count": null,
   "metadata": {},
   "outputs": [],
   "source": []
  },
  {
   "cell_type": "code",
   "execution_count": null,
   "metadata": {},
   "outputs": [],
   "source": []
  }
 ],
 "metadata": {
  "kernelspec": {
   "display_name": "Python 3",
   "language": "python",
   "name": "python3"
  },
  "language_info": {
   "codemirror_mode": {
    "name": "ipython",
    "version": 3
   },
   "file_extension": ".py",
   "mimetype": "text/x-python",
   "name": "python",
   "nbconvert_exporter": "python",
   "pygments_lexer": "ipython3",
   "version": "3.8.3"
  },
  "toc": {
   "base_numbering": 1,
   "nav_menu": {},
   "number_sections": true,
   "sideBar": true,
   "skip_h1_title": false,
   "title_cell": "Table of Contents",
   "title_sidebar": "Contents",
   "toc_cell": false,
   "toc_position": {},
   "toc_section_display": true,
   "toc_window_display": false
  },
  "varInspector": {
   "cols": {
    "lenName": 16,
    "lenType": 16,
    "lenVar": 40
   },
   "kernels_config": {
    "python": {
     "delete_cmd_postfix": "",
     "delete_cmd_prefix": "del ",
     "library": "var_list.py",
     "varRefreshCmd": "print(var_dic_list())"
    },
    "r": {
     "delete_cmd_postfix": ") ",
     "delete_cmd_prefix": "rm(",
     "library": "var_list.r",
     "varRefreshCmd": "cat(var_dic_list()) "
    }
   },
   "types_to_exclude": [
    "module",
    "function",
    "builtin_function_or_method",
    "instance",
    "_Feature"
   ],
   "window_display": false
  }
 },
 "nbformat": 4,
 "nbformat_minor": 4
}
